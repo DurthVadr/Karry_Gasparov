{
 "cells": [
  {
   "cell_type": "markdown",
   "metadata": {},
   "source": [
    "# Reinforcement Learning\n",
    "Reinforcement learning is a machine learning training method based on rewarding desired behaviors and/or punishing undesired ones.\n",
    "\n",
    "In general, a reinforcement learning agent is able to perceive and interpret its environment, take actions and learn through trial and error.\n",
    "\n",
    "<img src=\"https://raw.githubusercontent.com/MandM-DataScience/chess-engine/master/images/Reinforcement_learning_diagram.svg.png\" alt=\"Reinforcement learning diagram\" width=300 height=300>\n",
    "\n",
    "The agent takes in a representation of the environment (State) and decides which Action to take (based on what it thinks the reward will be).\n",
    "\n",
    "At the beginning it has no idea of which Action will yield the best reward, so it will take random Actions and discover step by step which Action is the best for each State!\n",
    "\n",
    "This is the trial and error part of the process.\n",
    "\n",
    "So, the main components of our reinforcement learning model are:\n",
    "- State representation (how are we going to encode a chess board position into a State)\n",
    "- Action space (what possible Action can the agent make)\n",
    "- Neural network architecture (how the Agent chooses which Action to take based on the current State)\n",
    "- Reward signal (how are we going to reward/punish the agent for an Action it took)\n",
    "- Exploration strategy (how do we balance the exploration of new Actions with the exploitation of what the Agent has learned in previous steps)"
   ]
  },
  {
   "cell_type": "markdown",
   "metadata": {},
   "source": [
    "## State Representation\n",
    "\n",
    "A chess board position can be efficiently stored as a list of bitboards.\n",
    "\n",
    "A bitboard is a specialized bit array data structure commonly used in computer systems that play board games, where each bit corresponds to a game board space or piece.\n",
    "\n",
    "To represent the whole board position using bitboards we need one bitboard for each piece type + one bitboard for the empty squares.\n",
    "\n",
    "Let's see an example with the starting board."
   ]
  },
  {
   "cell_type": "code",
   "execution_count": 11,
   "metadata": {},
   "outputs": [
    {
     "name": "stdout",
     "output_type": "stream",
     "text": [
      "♜ ♞ ♝ ♛ ♚ ♝ ♞ ♜\n",
      "♟ ♟ ♟ ♟ ♟ ♟ ♟ ♟\n",
      "⭘ ⭘ ⭘ ⭘ ⭘ ⭘ ⭘ ⭘\n",
      "⭘ ⭘ ⭘ ⭘ ⭘ ⭘ ⭘ ⭘\n",
      "⭘ ⭘ ⭘ ⭘ ⭘ ⭘ ⭘ ⭘\n",
      "⭘ ⭘ ⭘ ⭘ ⭘ ⭘ ⭘ ⭘\n",
      "♙ ♙ ♙ ♙ ♙ ♙ ♙ ♙\n",
      "♖ ♘ ♗ ♕ ♔ ♗ ♘ ♖\n"
     ]
    }
   ],
   "source": [
    "import chess\n",
    "board = chess.Board()\n",
    "print(board.unicode())"
   ]
  },
  {
   "cell_type": "code",
   "execution_count": 12,
   "metadata": {},
   "outputs": [
    {
     "name": "stdout",
     "output_type": "stream",
     "text": [
      "00000000\n",
      "11111111\n",
      "00000000\n",
      "00000000\n",
      "00000000\n",
      "00000000\n",
      "11111111\n",
      "00000000\n"
     ]
    }
   ],
   "source": [
    "def print_bitboard(bitboard):\n",
    "    \n",
    "    # for each row\n",
    "    for i in range(8):\n",
    "        \n",
    "        # print bitboard of 1s/0s (we have to mirror the bitboard)\n",
    "        if i == 0:\n",
    "            print(format(bitboard, \"064b\")[8*(i+1)-1::-1])\n",
    "        else:\n",
    "            print(format(bitboard, \"064b\")[8*(i+1)-1:8*i-1:-1])\n",
    "\n",
    "# bitboard of pawns\n",
    "print_bitboard(board.pawns)"
   ]
  },
  {
   "cell_type": "code",
   "execution_count": 13,
   "metadata": {},
   "outputs": [
    {
     "name": "stdout",
     "output_type": "stream",
     "text": [
      "00001000\n",
      "00000000\n",
      "00000000\n",
      "00000000\n",
      "00000000\n",
      "00000000\n",
      "00000000\n",
      "00001000\n"
     ]
    }
   ],
   "source": [
    "# bitboard of kings\n",
    "print_bitboard(board.kings)"
   ]
  },
  {
   "cell_type": "code",
   "execution_count": 14,
   "metadata": {},
   "outputs": [
    {
     "name": "stdout",
     "output_type": "stream",
     "text": [
      "00100100\n",
      "00000000\n",
      "00000000\n",
      "00000000\n",
      "00000000\n",
      "00000000\n",
      "00000000\n",
      "00100100\n"
     ]
    }
   ],
   "source": [
    "# bitboard of bishops\n",
    "print_bitboard(board.bishops)"
   ]
  },
  {
   "cell_type": "code",
   "execution_count": 15,
   "metadata": {
    "scrolled": true
   },
   "outputs": [
    {
     "name": "stdout",
     "output_type": "stream",
     "text": [
      "00000000\n",
      "00000000\n",
      "11111111\n",
      "11111111\n",
      "11111111\n",
      "11111111\n",
      "00000000\n",
      "00000000\n"
     ]
    }
   ],
   "source": [
    "# bitboard of empty squares\n",
    "print_bitboard(board.occupied ^ 2 ** 64 -1)"
   ]
  },
  {
   "cell_type": "markdown",
   "metadata": {},
   "source": [
    "## Action Space\n",
    "The Action space must contain all POSSIBLE moves, not VALID moves.\n",
    "\n",
    "We decided the number of possible moves as 4096 (64 squares from -> 64 squares to).\n",
    "\n",
    "Out of this 4096 combinations, not all of them are truly possible (for example no piece can move from square a1 to square b7). But for this exercise we decide to ignore this as it would complicate things.\n",
    "\n",
    "Out of this set of possible moves, of course only a very small subset of moves can be chosen in a specific state.\n",
    "\n",
    "To narrow down these valid moves we are going to apply a masking layer in our Neural Net."
   ]
  },
  {
   "cell_type": "code",
   "execution_count": 16,
   "metadata": {},
   "outputs": [
    {
     "data": {
      "text/plain": [
       "{407: Move.from_uci('g1h3'),\n",
       " 405: Move.from_uci('g1f3'),\n",
       " 82: Move.from_uci('b1c3'),\n",
       " 80: Move.from_uci('b1a3'),\n",
       " 983: Move.from_uci('h2h3'),\n",
       " 918: Move.from_uci('g2g3'),\n",
       " 853: Move.from_uci('f2f3'),\n",
       " 788: Move.from_uci('e2e3'),\n",
       " 723: Move.from_uci('d2d3'),\n",
       " 658: Move.from_uci('c2c3'),\n",
       " 593: Move.from_uci('b2b3'),\n",
       " 528: Move.from_uci('a2a3'),\n",
       " 991: Move.from_uci('h2h4'),\n",
       " 926: Move.from_uci('g2g4'),\n",
       " 861: Move.from_uci('f2f4'),\n",
       " 796: Move.from_uci('e2e4'),\n",
       " 731: Move.from_uci('d2d4'),\n",
       " 666: Move.from_uci('c2c4'),\n",
       " 601: Move.from_uci('b2b4'),\n",
       " 536: Move.from_uci('a2a4')}"
      ]
     },
     "execution_count": 16,
     "metadata": {},
     "output_type": "execute_result"
    }
   ],
   "source": [
    "import numpy as np\n",
    "\n",
    "def encode_valid_moves(board):\n",
    "    \n",
    "    valid_moves_dict = {}\n",
    "    \n",
    "    # for each valid move\n",
    "    for move in board.legal_moves:\n",
    "        \n",
    "        # compute index based on starting square and target square\n",
    "        index = 64 * (move.from_square) + (move.to_square)\n",
    "        valid_moves_dict[index] = move\n",
    "    \n",
    "    return valid_moves_dict\n",
    "\n",
    "valid_moves_dict = encode_valid_moves(board)\n",
    "valid_moves_dict"
   ]
  },
  {
   "cell_type": "markdown",
   "metadata": {},
   "source": [
    "Each one of the 4096 moves represent a move from a square to another. The first move (which is not actually possible) is move from a1 to a1. The second a1 -> b1, the third a1 -> c1, and so on.\n",
    "\n",
    "The index grows for the target square from left to right (by 1) and from bottom to top (by 8).\n",
    "\n",
    "The index grows for the starting square from left to right (by 64) and from bottom to top (by 512).\n",
    "\n",
    "With these moves encoded in this way we can build a mask (of 0s/1s) in order to disable the output layer nodes that correspond to a non-valid move."
   ]
  },
  {
   "cell_type": "code",
   "execution_count": 17,
   "metadata": {
    "scrolled": true
   },
   "outputs": [
    {
     "data": {
      "text/plain": [
       "array([[0., 0., 0., ..., 0., 0., 0.],\n",
       "       [0., 0., 0., ..., 0., 0., 0.],\n",
       "       [0., 0., 0., ..., 0., 0., 0.],\n",
       "       ...,\n",
       "       [0., 0., 0., ..., 0., 0., 0.],\n",
       "       [0., 0., 0., ..., 0., 0., 0.],\n",
       "       [0., 0., 0., ..., 0., 0., 0.]])"
      ]
     },
     "execution_count": 17,
     "metadata": {},
     "output_type": "execute_result"
    }
   ],
   "source": [
    "def mask_and_valid_moves(board):\n",
    "\n",
    "    mask = np.zeros((64, 64))\n",
    "    valid_moves_dict = {}\n",
    "    \n",
    "    # for each valid move\n",
    "    for move in board.legal_moves:\n",
    "        \n",
    "        # mask is a matrix\n",
    "        mask[move.from_square, move.to_square] = 1\n",
    "        \n",
    "        # compute index based on starting square and target square\n",
    "        index = 64 * (move.from_square) + (move.to_square)\n",
    "        \n",
    "        valid_moves_dict[index] = move\n",
    "    \n",
    "    return mask, valid_moves_dict\n",
    "\n",
    "mask, valid_moves_dict = mask_and_valid_moves(board)\n",
    "mask"
   ]
  },
  {
   "cell_type": "markdown",
   "metadata": {},
   "source": [
    "## Neural Network architecture\n",
    "We are going to use an hybrid neural network consisting of an initial series of convolutional layers and a following series of fully connected layers.\n",
    "\n",
    "The convolutional layers are used to extract features from the \"image\" of the board, the fully connected layers to compute a function that takes this features as input and the move to make as output.\n",
    "\n",
    "For the final step we will use a mask layer to reduce the number of selectable moves to only the valid moves.\n",
    "\n",
    "The process is quite similar to how a human would act.\n",
    "\n",
    "A human looks at the board and extract features like piece position, possible attacks, threats from the opponent, possible moves, checks, and so on. And then uses this information to take a decision about which move to make."
   ]
  },
  {
   "cell_type": "markdown",
   "metadata": {},
   "source": [
    "### How does a Neural network work?\n",
    "A neural network is made of layers and nodes.\n",
    "\n",
    "<img src=\"https://raw.githubusercontent.com/MandM-DataScience/chess-engine/master/images/colored_neural_network-1200x1443.png\" alt=\"Neural network diagram\" width=250 height=250>\n",
    "\n",
    "Each node of a layer takes as input the output of the previous layer (or a subset of that) and computes a function on that input (activation function).\n",
    "\n",
    "Each node has a weight and bias parameters that are used inside that function.\n",
    "\n",
    "The output of the nodes of the layer is then passed as input to the next layer and so on, until the final layer that will output the neural net prediction.\n",
    "\n",
    "The prediction is then compared to the actual values, computing a loss (or error).\n",
    "\n",
    "This error is then backpropagated from the output layer to previous layers, where each node adjust its weight and bias parameters in order to minimize that error.\n",
    "\n",
    "![Neural network backpropagation](https://raw.githubusercontent.com/MandM-DataScience/chess-engine/master/images/backpropagation.gif)"
   ]
  },
  {
   "cell_type": "markdown",
   "metadata": {},
   "source": [
    "### How does a convolutional layer work?\n",
    "The layer performs a dot product between two matrices, where one matrix is the set of learnable parameters otherwise known as a kernel, and the other matrix is a subset of the input.\n",
    "\n",
    "<img src=\"https://raw.githubusercontent.com/MandM-DataScience/chess-engine/master/images/convolution.gif\" alt=\"Convolution\" width=400 height=400>\n",
    "\n",
    "During the forward pass, the kernel slides across the height and width of the image/input. The sliding size of the kernel is called a stride.\n",
    "\n",
    "This is used to extract features from subsets of the image to be passed to following layers."
   ]
  },
  {
   "cell_type": "markdown",
   "metadata": {},
   "source": [
    "Let's see how to build this network using PyTorch, a library used to create neural networks in python. https://pytorch.org/"
   ]
  },
  {
   "cell_type": "code",
   "execution_count": 18,
   "metadata": {},
   "outputs": [],
   "source": [
    "import torch\n",
    "import torch.nn as nn\n",
    "import torch.nn.functional as F\n",
    "\n",
    "# This is our final mask layer\n",
    "class MaskLayer(nn.Module):\n",
    "\n",
    "    def __init__(self):\n",
    "        super(MaskLayer, self).__init__()\n",
    "    \n",
    "    # mask is made of 0s/1s so it will just set to 0 any invalid move\n",
    "    def forward(self, x, mask):\n",
    "        return torch.mul(x, mask)"
   ]
  },
  {
   "cell_type": "markdown",
   "metadata": {},
   "source": [
    "BatchNorm2d layers are normalization layers that subtract the batch mean and divide by the batch standard deviation.\n",
    "\n",
    "It then applies a scaling factor and an offset to the normalized output. The scaling factor and offset are learned during training and are applied during both training and inference.\n",
    "\n",
    "The purpose of these layers is to improve the training process and reduce overfitting by normalizing the input to each node in a layer. This can lead to faster convergence during training and better generalization to new data during inference."
   ]
  },
  {
   "cell_type": "code",
   "execution_count": 19,
   "metadata": {},
   "outputs": [],
   "source": [
    "class DQN(nn.Module):\n",
    "\n",
    "    def __init__(self):\n",
    "        \n",
    "        super(DQN, self).__init__()\n",
    "        \n",
    "        # input size = 8 (rows) x 8 (cols) x 16 (bitboards)\n",
    "        # - 6 bitboards for white pieces\n",
    "        # - 6 bitboards for black pieces\n",
    "        # - 1 for empty squares\n",
    "        # - 1 for castling rights\n",
    "        # - 1 for en passant\n",
    "        # - 1 for player\n",
    "        \n",
    "        # first convolutional layer 8x8x16 => 8x8x32\n",
    "        self.conv1 = nn.Conv2d(16, 32, kernel_size=3, stride=1, padding=1)\n",
    "        self.bn1 = nn.BatchNorm2d(32)\n",
    "        \n",
    "        # second convolutional layer 8x8x32 => 8x8x64 \n",
    "        self.conv2 = nn.Conv2d(32, 64, kernel_size=3, stride=1, padding=1)\n",
    "        self.bn2 = nn.BatchNorm2d(64)\n",
    "        \n",
    "        # third convolutional layer 8x8x64 => 8x8x128 \n",
    "        self.conv3 = nn.Conv2d(64, 128, kernel_size=3, stride=1, padding=1)\n",
    "        self.bn3 = nn.BatchNorm2d(128)\n",
    "        \n",
    "        # first fully connected layer 8192 => 8192\n",
    "        self.fc1 = nn.Linear(128*64, 128*64)\n",
    "        \n",
    "        # second fully connected layer 8192 => 4096\n",
    "        self.fc2 = nn.Linear(128*64, 64*64)\n",
    "        \n",
    "        # mask is made of 0s/1s so it will just set to 0 any invalid move 4096 => 4096\n",
    "        self.mask = MaskLayer()\n",
    "\n",
    "    def forward(self, x, mask=None, debug=False):\n",
    "        \n",
    "        # conv1 + bn1 with activation function ReLU\n",
    "        x = nn.functional.relu(self.bn1(self.conv1(x)))\n",
    "        \n",
    "        # conv2 + bn2 with activation function ReLU\n",
    "        x = nn.functional.relu(self.bn2(self.conv2(x)))\n",
    "        \n",
    "        # conv3 + bn3 with activation function ReLU\n",
    "        x = nn.functional.relu(self.bn3(self.conv3(x)))\n",
    "        \n",
    "        # flatten will transform data structure from 3D 8x8x128 to 1D 8192\n",
    "        x = nn.Flatten()(x)\n",
    "        \n",
    "        # fully connected with activation function ReLU\n",
    "        x = nn.functional.relu(self.fc1(x))\n",
    "        \n",
    "        # fully connected WITHOUT ReLU (we want to keep negative values for our output layer)\n",
    "        x = self.fc2(x)\n",
    "        \n",
    "        # if we have a mask we apply it to set to 0 all invalid moves\n",
    "        if mask is not None:\n",
    "            x = self.mask(x, mask)\n",
    "            \n",
    "        return x"
   ]
  },
  {
   "cell_type": "markdown",
   "metadata": {},
   "source": [
    "A rectified linear unit (ReLU) is an activation function that introduces the property of non-linearity to a neural network model and solves the vanishing gradients issue.\n",
    "\n",
    "It is one of the most popular activation functions and it works like a floor function, max(0, output).\n",
    "\n",
    "https://en.wikipedia.org/wiki/Rectifier_(neural_networks)"
   ]
  },
  {
   "cell_type": "markdown",
   "metadata": {},
   "source": [
    "## Reward signal\n",
    "The main signals should be the ones regarding the result of a match: +1 if win, -1 if lose, 0 if draw.\n",
    "\n",
    "However, it is better to introduce intermediate signals, so that we can \"teach\" the agent also during a single game and not only at the end.\n",
    "\n",
    "For example a small reward if by making a move the position improves and a lower score if the position worsen.\n",
    "\n",
    "Keep in mind that to assess the position score in the middle of a game we would need something \"external\" from the model! In our case we will use the stockfish analyse function.\n",
    "\n",
    "It is definitevely possible to train a model without any kind of human or other-engine intervention, and just using the match result rewards. But it will probably take longer."
   ]
  },
  {
   "cell_type": "code",
   "execution_count": 23,
   "metadata": {},
   "outputs": [],
   "source": [
    "import chess\n",
    "import chess.engine\n",
    "import random\n",
    "\n",
    "# for now our agent choose a random move\n",
    "def agent_choose_move(board):\n",
    "    return random.choice(list(board.legal_moves))\n",
    "\n",
    "# Create a chess board\n",
    "board = chess.Board()\n",
    "\n",
    "# Create a stockfish engine instance\n",
    "stockfish = chess.engine.SimpleEngine.popen_uci(\"/opt/homebrew/Cellar/stockfish/17.1/bin/stockfish\")\n",
    "\n",
    "# Analyse starting board with stockfish\n",
    "board_score_before = stockfish.analyse(board=board, limit=chess.engine.Limit(depth=5))\\\n",
    "    ['score'].relative.score(mate_score=10000)\n",
    "\n",
    "# Agent choose move\n",
    "move = agent_choose_move(board)\n",
    "board.push(move)\n",
    "\n",
    "# Make random move for black\n",
    "board.push(random.choice(list(board.legal_moves)))\n",
    "\n",
    "# Analyse final board with stockfish\n",
    "board_score_after = stockfish.analyse(board=board, limit=chess.engine.Limit(depth=5))\\\n",
    "    ['score'].relative.score(mate_score=10000)\n",
    "\n",
    "# Divide by 100 to transform to centipawn to pawn score and subtract 0.01 to penalize the agent for each move. \n",
    "# We want to win as fast as possible ;)\n",
    "reward = board_score_after/100 - board_score_before/100 - 0.01"
   ]
  },
  {
   "cell_type": "code",
   "execution_count": 24,
   "metadata": {},
   "outputs": [
    {
     "name": "stdout",
     "output_type": "stream",
     "text": [
      "♜ ♞ ♝ ♛ ♚ ♝ ♞ ♜\n",
      "♟ ♟ ♟ ♟ ♟ ♟ ⭘ ♟\n",
      "⭘ ⭘ ⭘ ⭘ ⭘ ⭘ ⭘ ⭘\n",
      "⭘ ⭘ ⭘ ⭘ ⭘ ⭘ ♟ ⭘\n",
      "⭘ ⭘ ⭘ ⭘ ⭘ ⭘ ⭘ ♙\n",
      "⭘ ⭘ ⭘ ⭘ ⭘ ⭘ ⭘ ⭘\n",
      "♙ ♙ ♙ ♙ ♙ ♙ ♙ ⭘\n",
      "♖ ♘ ♗ ♕ ♔ ♗ ♘ ♖\n"
     ]
    }
   ],
   "source": [
    "print(board.unicode())"
   ]
  },
  {
   "cell_type": "code",
   "execution_count": 25,
   "metadata": {},
   "outputs": [
    {
     "data": {
      "text/plain": [
       "Move.from_uci('h2h4')"
      ]
     },
     "execution_count": 25,
     "metadata": {},
     "output_type": "execute_result"
    }
   ],
   "source": [
    "move"
   ]
  },
  {
   "cell_type": "code",
   "execution_count": 26,
   "metadata": {},
   "outputs": [
    {
     "data": {
      "text/plain": [
       "1.9000000000000001"
      ]
     },
     "execution_count": 26,
     "metadata": {},
     "output_type": "execute_result"
    }
   ],
   "source": [
    "reward"
   ]
  },
  {
   "cell_type": "markdown",
   "metadata": {},
   "source": [
    "## Exploration strategy\n",
    "It is crucial to design the agent with an exploration strategy that will allow it to explore new moves instead of picking always the ones that temporarily thinks as best.\n",
    "\n",
    "Otherwise, the agent will become stuck in some local minimum instead of getting to the best possible solution.\n",
    "\n",
    "A simple exploration strategy is called epsilon-greedy.\n",
    "\n",
    "We have a parameter called epsilon that ranges between 0 and 1 and represent the exploration probability.\n",
    "\n",
    "At the beginning of the training the epsilon is set to a high value, like 1 and it is progressively reduced.\n",
    "\n",
    "For each step the agent takes a random action with probability epsilon and the \"best move\" with probability 1 - epsilon."
   ]
  },
  {
   "cell_type": "code",
   "execution_count": 27,
   "metadata": {},
   "outputs": [
    {
     "data": {
      "text/plain": [
       "0.995"
      ]
     },
     "execution_count": 27,
     "metadata": {},
     "output_type": "execute_result"
    }
   ],
   "source": [
    "# Exploration rate\n",
    "epsilon = 1\n",
    "epsilon_decay = 0.995\n",
    "epsilon_min = 0.01\n",
    "\n",
    "# choose random with probability epsilon\n",
    "if random.uniform(0, 1) <= epsilon:\n",
    "    move = random.choice(list(board.legal_moves))\n",
    "    \n",
    "# choose best move with probability 1 - epsilon\n",
    "else:\n",
    "    move = agent_choose_move(board)\n",
    "\n",
    "# reduce exploration rate after each step\n",
    "epsilon = max(epsilon * epsilon_decay, epsilon_min)\n",
    "epsilon"
   ]
  },
  {
   "cell_type": "markdown",
   "metadata": {},
   "source": [
    "## Let's build the agent"
   ]
  },
  {
   "cell_type": "code",
   "execution_count": 28,
   "metadata": {},
   "outputs": [],
   "source": [
    "import os\n",
    "\n",
    "class ChessAgent:\n",
    "\n",
    "    # Constructor\n",
    "    def __init__(self, input_model_path=None):\n",
    "\n",
    "        # Exploration parameters\n",
    "        self.epsilon = 1\n",
    "        self.epsilon_decay = 0.99\n",
    "        self.epsilon_min = 0.01\n",
    "\n",
    "        # Training parameters\n",
    "        self.gamma = 0.5 # tells the agent whether to prefer long term rewards or immediate rewards. 0 = greedy, 1 = long term\n",
    "        self.learning_rate = 1e-03 # how fast the network updates its weights\n",
    "        self.MEMORY_SIZE = 512 # how many steps/moves/samples to store. It is used for training (experience replay) \n",
    "        self.MAX_PRIORITY = 1e+06 # max priority for a sample in memory. The higher the priority, the more likely the sample will be included in training\n",
    "        self.memory = [] # memory data structure\n",
    "        self.batch_size = 16 # how many sample to include in a training step        \n",
    "        \n",
    "        self.policy_net = DQN()\n",
    "        \n",
    "        # Load trained model if exists\n",
    "        if input_model_path is not None and os.path.exists(input_model_path):\n",
    "            self.policy_net.load_state_dict(torch.load(input_model_path))    \n",
    "\n",
    "        # We use mean squared error as our loss function\n",
    "        self.loss_function = nn.MSELoss()\n",
    "        \n",
    "        # Adam optimizer provides adaptive learning rate and a momentum-based approach that can help the neural network \n",
    "        # learn faster and converge more quickly towards the optimal set of parameters that minimize the cost or loss function\n",
    "        self.optimizer = torch.optim.Adam(self.policy_net.parameters(), lr=self.learning_rate)\n",
    "\n",
    "    \n",
    "    # Convert board into a 3D np.array of 16 bitboards\n",
    "    def convert_state(self, board):\n",
    "        \n",
    "        # dictionary to store bitboards\n",
    "        piece_bitboards = {}\n",
    "        \n",
    "        # for each color (white, black)\n",
    "        for color in chess.COLORS:\n",
    "            \n",
    "            # for each piece type (pawn, bishop, knigh, rook, queen, kinb)\n",
    "            for piece_type in chess.PIECE_TYPES:\n",
    "                v = board.pieces_mask(piece_type, color)\n",
    "                symbol = chess.piece_symbol(piece_type)\n",
    "                i = symbol.upper() if color else symbol\n",
    "                piece_bitboards[i] = v\n",
    "\n",
    "        # empty bitboard\n",
    "        piece_bitboards['-'] = board.occupied ^ 2 ** 64 - 1\n",
    "        \n",
    "        # player bitboard (full 1s if player is white, full 0s otherwise)\n",
    "        player = 2 ** 64 - 1 if board.turn else 0\n",
    "\n",
    "        # castling_rights bitboard\n",
    "        castling_rights = board.castling_rights\n",
    "\n",
    "        # en passant bitboard\n",
    "        en_passant = 0\n",
    "        ep = board.ep_square\n",
    "        if ep is not None:\n",
    "            en_passant |= (1 << ep)\n",
    "\n",
    "        # bitboards (16) = 12 for pieces, 1 for empty squares, 1 for player, 1 for castling rights, 1 for en passant\n",
    "        bitboards = [b for b in piece_bitboards.values()] + [player] + [castling_rights] + [en_passant]\n",
    "\n",
    "        # for each bitboard transform integet into a matrix of 1s and 0s\n",
    "        # reshape in 3D format (16 x 8 x 8)\n",
    "        bitarray = np.array([\n",
    "            np.array([(bitboard >> i & 1) for i in range(64)])\n",
    "            for bitboard in bitboards\n",
    "        ]).reshape((16, 8, 8))\n",
    "\n",
    "        return bitarray\n",
    "\n",
    "    \n",
    "    # get the move index out of the 4096 possible moves, as explained before\n",
    "    def get_move_index(self, move):\n",
    "        index = 64 * (move.from_square) + (move.to_square)\n",
    "        return index\n",
    "\n",
    "    \n",
    "    # returns mask of valid moves (out of 4096) + the dictionary with the valid moves and their indexes\n",
    "    def mask_and_valid_moves(self, board):\n",
    "\n",
    "        mask = np.zeros((64, 64))\n",
    "        valid_moves_dict = {}\n",
    "        \n",
    "        for move in board.legal_moves:\n",
    "            mask[move.from_square, move.to_square] = 1\n",
    "            valid_moves_dict[self.get_move_index(move)] = move\n",
    "        \n",
    "        # mask is flatten and returned as a PyTorch tensor\n",
    "        # a tensor is just a vector optimized for derivatives computation, used in PyTorch neural nets\n",
    "        return torch.from_numpy(mask.flatten()), valid_moves_dict\n",
    "\n",
    "    \n",
    "    # insert a step/move/sample into memory to be used in training as experience replay\n",
    "    def remember(self, priority, state, action, reward, next_state, done, valid_moves, next_valid_moves):\n",
    "\n",
    "        # if memory is full, we delete the least priority element\n",
    "        if len(self.memory) >= self.MEMORY_SIZE:\n",
    "            \n",
    "            min_value = self.MAX_PRIORITY\n",
    "            min_index = 0\n",
    "            \n",
    "            for i,n in enumerate(self.memory):\n",
    "                \n",
    "                # priority is stored in the first position of the tuple\n",
    "                if n[0] < min_value:\n",
    "                    min_value = n[0]\n",
    "                    min_index = i\n",
    "            \n",
    "            del self.memory[min_index]\n",
    "\n",
    "        self.memory.append((priority, state, action, reward, next_state, done, valid_moves, next_valid_moves))\n",
    "\n",
    "    \n",
    "    # Take a board as input and return a valid move defined as tuple (start square, end square)\n",
    "    def select_action(self, board, best_move):\n",
    "\n",
    "        # convert board into the 16 bitboards\n",
    "        bit_state = self.convert_state(board)\n",
    "        \n",
    "        # get valid moves\n",
    "        valid_moves_tensor, valid_move_dict = self.mask_and_valid_moves(board)\n",
    "        \n",
    "        # with probability epsilon = Explore\n",
    "        if random.uniform(0, 1) <= self.epsilon:\n",
    "            \n",
    "            r = random.uniform(0, 1)\n",
    "            \n",
    "            # inside exploration with probability 10% choose best move (as computed by stockfish)\n",
    "            if r <= 0.1:\n",
    "                chosen_move = best_move\n",
    "            \n",
    "            # with probability 90% choose a random move\n",
    "            else:\n",
    "                chosen_move = random.choice(list(valid_move_dict.values()))\n",
    "        \n",
    "        # with probability 1 - epsilon = Exploit\n",
    "        else:\n",
    "            \n",
    "            # during inference we don't need to compute gradients\n",
    "            with torch.no_grad():\n",
    "                \n",
    "                # transform our 16 bitboards in a tensor of shape 1 x 16 x 8 x 8\n",
    "                tensor = torch.from_numpy(bit_state).float().unsqueeze(0)\n",
    "                \n",
    "                # predict rewards for each valid move in the current state. valid_moves_tensor is the mask!\n",
    "                policy_values = self.policy_net(tensor, valid_moves_tensor)\n",
    "                \n",
    "                # take the move index with the highest predicted reward\n",
    "                chosen_move_index = int(policy_values.max(1)[1].view(1,1))\n",
    "                \n",
    "                # if move is valid:\n",
    "                if chosen_move_index in valid_move_dict:\n",
    "                    chosen_move = valid_move_dict[chosen_move_index]\n",
    "                    \n",
    "                # if move is NOT valid, choose random move\n",
    "                # this can happen if all valid moves have predicted values 0 or negative\n",
    "                else:\n",
    "                    chosen_move = random.choice(list(board.legal_moves))\n",
    "\n",
    "        return self.get_move_index(chosen_move), chosen_move, bit_state, valid_moves_tensor\n",
    "\n",
    "    \n",
    "    # Decay epsilon (exploration rate)\n",
    "    def adaptiveEGreedy(self):\n",
    "        self.epsilon = max(self.epsilon * self.epsilon_decay, self.epsilon_min)\n",
    "\n",
    "        \n",
    "    # Save trained model\n",
    "    def save_model(self, path):\n",
    "        torch.save(self.policy_net.state_dict(), path)"
   ]
  },
  {
   "cell_type": "markdown",
   "metadata": {},
   "source": [
    "## Train the agent\n",
    "To train the agent we need 2 different methods.\n",
    "\n",
    "The first (learn_experience_replay) will run a single training step (using experience replay and sampling from the agent memory).\n",
    "\n",
    "The second (Q_learning) will run multiple games and for each agent move in each game, will save a new sample in memory (with the state, action, reward, etc...) and run a single training step (calling the learn_experience_replay function)."
   ]
  },
  {
   "cell_type": "code",
   "execution_count": 29,
   "metadata": {},
   "outputs": [],
   "source": [
    "# Train the model with Experience Replay\n",
    "def learn_experience_replay(self, debug=False):\n",
    "    \n",
    "    batch_size = self.batch_size\n",
    "\n",
    "    # if memory does not have enough sample to fill a batch, return\n",
    "    if len(self.memory) < batch_size:\n",
    "        return\n",
    "\n",
    "    # get priorities from the first element in the memory samples tuple\n",
    "    priorities = [x[0] for x in self.memory]\n",
    "    \n",
    "    # the higher the priority, the more probable the sample will be included in the batch training\n",
    "    priorities_tot = np.sum(priorities)\n",
    "    weights = priorities / priorities_tot\n",
    "\n",
    "    # extract samples for the batch training\n",
    "    minibatch_indexes = np.random.choice(range(len(self.memory)), size=batch_size, replace=False, p=weights)\n",
    "    minibatch = [self.memory[x] for x in minibatch_indexes]\n",
    "\n",
    "    # unpack the tuples in the batch into different lists, to be converted into tensors\n",
    "    state_list = []\n",
    "    state_valid_moves = []\n",
    "    action_list = []\n",
    "    reward_list = []\n",
    "    next_state_list = []\n",
    "    next_state_valid_moves = []\n",
    "    done_list = []\n",
    "\n",
    "    for priority, bit_state, action, reward, next_bit_state, done, state_valid_move, next_state_valid_move in minibatch:\n",
    "\n",
    "        # bit state is the 16 bitboards of the state before the move\n",
    "        state_list.append(bit_state)\n",
    "        \n",
    "        # state_valid_moves is a tensor containing the indexes of valid moves (out of 4096)\n",
    "        state_valid_moves.append(state_valid_move.unsqueeze(0))\n",
    "        \n",
    "        # action is the index of the chosen move (out of 4096)\n",
    "        action_list.append([action])\n",
    "        \n",
    "        # reward is the reward obtained by making the chosen move\n",
    "        reward_list.append(reward)\n",
    "        \n",
    "        # done indicates if the game ended after making the chosen move\n",
    "        done_list.append(done)\n",
    "\n",
    "        if not done:\n",
    "            \n",
    "            # next_bit_state is the 16 bitboards of the state after the move\n",
    "            next_state_list.append(next_bit_state)\n",
    "            \n",
    "            # next_state_valid_moves is a tensor containing the indexes of valid moves (out of 4096)\n",
    "            next_state_valid_moves.append(next_state_valid_move.unsqueeze(0))\n",
    "\n",
    "    # state_valid_moves and next_state_valid_moves are already tensors, we just need to concat them\n",
    "    state_valid_move_tensor = torch.cat(state_valid_moves, 0)\n",
    "    next_state_valid_move_tensor = torch.cat(next_state_valid_moves, 0)\n",
    "\n",
    "    # convert all lists to tensors\n",
    "    state_tensor = torch.from_numpy(np.array(state_list)).float()\n",
    "    action_list_tensor = torch.from_numpy(np.array(action_list, dtype=np.int64))\n",
    "    reward_list_tensor = torch.from_numpy(np.array(reward_list)).float()\n",
    "    next_state_tensor = torch.from_numpy(np.array(next_state_list)).float()\n",
    "    \n",
    "    # create a tensor with \n",
    "    bool_array = np.array([not x for x in done_list])\n",
    "    not_done_mask = torch.tensor(bool_array, dtype=torch.bool)\n",
    "    \n",
    "    # compute the expected rewards for each valid move\n",
    "    policy_action_values = self.policy_net(state_tensor, state_valid_move_tensor)\n",
    "    \n",
    "    # get only the expected reward for the chosen move (to calculate loss against the actual reward)\n",
    "    policy_action_values = policy_action_values.gather(1, action_list_tensor)\n",
    "    \n",
    "    # target values are what we want the network to predict (our actual values in the loss function)\n",
    "    # target values = reward + max_reward_in_next_state * gamma\n",
    "    # gamma is the discount factor and tells the agent whether to prefer long term rewards or immediate rewards. 0 = greedy, 1 = long term \n",
    "    max_reward_in_next_state = torch.zeros(batch_size, dtype=torch.double)\n",
    "    \n",
    "    with torch.no_grad():\n",
    "        \n",
    "        # if the state is final (done = True, not_done_mask = False) the max_reward_in_next_state stays 0 \n",
    "        max_reward_in_next_state[not_done_mask] = self.policy_net(next_state_tensor, next_state_valid_move_tensor).max(1)[0]\n",
    "    \n",
    "    target_action_values = (max_reward_in_next_state * self.gamma) + reward_list_tensor\n",
    "    target_action_values = target_action_values.unsqueeze(1)\n",
    "    \n",
    "    # loss is computed between expected values (predicted) and target values (actual)\n",
    "    loss = self.loss_function(policy_action_values, target_action_values)\n",
    "\n",
    "    # Update priorities of samples in memory based on size of error (higher error = higher priority)\n",
    "    for i in range(batch_size):\n",
    "        \n",
    "        predicted_value = policy_action_values[i]\n",
    "        target_value = target_action_values[i]\n",
    "        \n",
    "        # priority = mean squared error\n",
    "        priority = F.mse_loss(predicted_value, target_value, reduction='mean').detach().numpy()\n",
    "        \n",
    "        # change priority of sample in memory\n",
    "        sample = list(self.memory[minibatch_indexes[i]])\n",
    "        sample[0] = priority\n",
    "        self.memory[minibatch_indexes[i]] = tuple(sample)\n",
    "\n",
    "    # clear gradients of all parameters from the previous training step\n",
    "    self.optimizer.zero_grad()\n",
    "    \n",
    "    # calculate the new gradients of the loss with respect to all the model parameters by traversing the network backwards\n",
    "    loss.backward()\n",
    "    \n",
    "    # adjust model parameters (weights, biases) according to computed gradients and learning rate\n",
    "    self.optimizer.step()\n",
    "    \n",
    "    if debug:\n",
    "        print(\"state_tensor shape\", state_tensor.shape)\n",
    "        print(\"\\naction_list_tensor shape\", action_list_tensor.shape)\n",
    "        print(\"\\naction_list_tensor (chosen move out of 4096)\", action_list_tensor)\n",
    "        print(\"\\npolicy_action_values (expected reward of chosen move)\", policy_action_values)\n",
    "        print(\"\\nnot_done_mask\", not_done_mask)\n",
    "        print(\"\\ntarget_action_values\", target_action_values)\n",
    "        print(\"\\nreward_list_tensor\", reward_list_tensor)\n",
    "        print(\"\\nloss:\", loss)\n",
    "\n",
    "    # return loss so that we can plot loss by training step\n",
    "    return float(loss)\n",
    "\n",
    "# add this new method to our ChessAgent class\n",
    "setattr(ChessAgent, \"learn_experience_replay\", learn_experience_replay)"
   ]
  },
  {
   "cell_type": "markdown",
   "metadata": {},
   "source": [
    "Let's see a training step in action, using a function to generate random samples to populate the memory."
   ]
  },
  {
   "cell_type": "code",
   "execution_count": 30,
   "metadata": {},
   "outputs": [],
   "source": [
    "# generate a random training sample\n",
    "def generate_random_sample(agent, stockfish, board):\n",
    "    \n",
    "    # set a standard priority\n",
    "    priority = 1\n",
    "    \n",
    "    # convert board in 16 bitboards\n",
    "    state = agent.convert_state(board)\n",
    "    \n",
    "    # get valid moves tensor\n",
    "    valid_moves, _ = agent.mask_and_valid_moves(board)\n",
    "    \n",
    "    # choose random move and compute its index (out of 4096)\n",
    "    random_move = random.choice(list(board.legal_moves))\n",
    "    action = agent.get_move_index(random_move)\n",
    "    \n",
    "    # make random move for white and black and compute reward\n",
    "    board_score_before = stockfish.analyse(board=board, limit=chess.engine.Limit(depth=5))\\\n",
    "        ['score'].relative.score(mate_score=10000)\n",
    "    \n",
    "    board.push(random_move)\n",
    "    board.push(random.choice(list(board.legal_moves)))\n",
    "    \n",
    "    board_score_after = stockfish.analyse(board=board, limit=chess.engine.Limit(depth=5))\\\n",
    "        ['score'].relative.score(mate_score=10000)\n",
    "    \n",
    "    # divide by 100 to convert from centipawns to pawns score\n",
    "    reward = board_score_after / 100 - board_score_before / 100 - 0.01\n",
    "    \n",
    "    # convert board in 16 bitboard\n",
    "    next_state = agent.convert_state(board)\n",
    "    \n",
    "    # if board.result() == * the game is not finished\n",
    "    done = board.result() != '*'\n",
    "    \n",
    "    # get valid moves tensor\n",
    "    next_valid_moves, _ = agent.mask_and_valid_moves(board)\n",
    "    \n",
    "    # undo white and black moves\n",
    "    board.pop()\n",
    "    board.pop()\n",
    "    \n",
    "    # store in agent memory\n",
    "    agent.remember(priority, state, action, reward, next_state, done, valid_moves, next_valid_moves)"
   ]
  },
  {
   "cell_type": "code",
   "execution_count": 31,
   "metadata": {
    "scrolled": true
   },
   "outputs": [
    {
     "data": {
      "text/plain": [
       "16"
      ]
     },
     "execution_count": 31,
     "metadata": {},
     "output_type": "execute_result"
    }
   ],
   "source": [
    "# Create a chess board\n",
    "board = chess.Board()\n",
    "\n",
    "# Create an agent\n",
    "agent = ChessAgent()\n",
    "\n",
    "for i in range(16):\n",
    "    generate_random_sample(agent, stockfish, board)\n",
    "\n",
    "len(agent.memory)"
   ]
  },
  {
   "cell_type": "code",
   "execution_count": 32,
   "metadata": {},
   "outputs": [
    {
     "name": "stdout",
     "output_type": "stream",
     "text": [
      "state_tensor shape torch.Size([16, 16, 8, 8])\n",
      "\n",
      "action_list_tensor shape torch.Size([16, 1])\n",
      "\n",
      "action_list_tensor (chosen move out of 4096) tensor([[ 82],\n",
      "        [926],\n",
      "        [991],\n",
      "        [658],\n",
      "        [ 82],\n",
      "        [918],\n",
      "        [796],\n",
      "        [658],\n",
      "        [861],\n",
      "        [593],\n",
      "        [ 82],\n",
      "        [731],\n",
      "        [723],\n",
      "        [796],\n",
      "        [853],\n",
      "        [723]])\n",
      "\n",
      "policy_action_values (expected reward of chosen move) tensor([[-0.1618],\n",
      "        [-0.1398],\n",
      "        [-0.2346],\n",
      "        [-0.1996],\n",
      "        [-0.1618],\n",
      "        [-0.2133],\n",
      "        [-0.0560],\n",
      "        [-0.1996],\n",
      "        [-0.0349],\n",
      "        [-0.4232],\n",
      "        [-0.1618],\n",
      "        [ 0.2853],\n",
      "        [ 0.2537],\n",
      "        [-0.0560],\n",
      "        [ 0.2532],\n",
      "        [ 0.2537]], dtype=torch.float64, grad_fn=<GatherBackward0>)\n",
      "\n",
      "not_done_mask tensor([True, True, True, True, True, True, True, True, True, True, True, True,\n",
      "        True, True, True, True])\n",
      "\n",
      "target_action_values tensor([[ 0.0915],\n",
      "        [-1.3001],\n",
      "        [-0.4888],\n",
      "        [ 0.7442],\n",
      "        [ 0.9212],\n",
      "        [ 0.0247],\n",
      "        [ 0.1628],\n",
      "        [ 0.1992],\n",
      "        [-0.2972],\n",
      "        [-0.5307],\n",
      "        [-0.0937],\n",
      "        [ 1.2012],\n",
      "        [-0.0179],\n",
      "        [ 0.0507],\n",
      "        [ 0.2308],\n",
      "        [-0.0696]], dtype=torch.float64)\n",
      "\n",
      "reward_list_tensor tensor([-6.0000e-02, -1.5300e+00, -6.3000e-01,  6.1000e-01,  8.2000e-01,\n",
      "        -1.7000e-01,  8.6736e-18,  4.0000e-02, -4.1000e-01, -6.5000e-01,\n",
      "        -2.8000e-01,  1.0300e+00, -1.8000e-01, -1.0000e-01,  8.0000e-02,\n",
      "        -2.6000e-01])\n",
      "\n",
      "loss: tensor(0.3073, dtype=torch.float64, grad_fn=<MseLossBackward0>)\n"
     ]
    },
    {
     "data": {
      "text/plain": [
       "0.307291103162738"
      ]
     },
     "execution_count": 32,
     "metadata": {},
     "output_type": "execute_result"
    }
   ],
   "source": [
    "agent.learn_experience_replay(debug=True)"
   ]
  },
  {
   "cell_type": "markdown",
   "metadata": {},
   "source": [
    "Let's see how the network actually learns to predict the rewards we want.\n",
    "\n",
    "As we repeat the learning step on the same samples the loss should gradually decrease."
   ]
  },
  {
   "cell_type": "code",
   "execution_count": 34,
   "metadata": {},
   "outputs": [
    {
     "data": {
      "image/png": "[encoded data removed]",
      "text/plain": [
       "<Figure size 640x480 with 1 Axes>"
      ]
     },
     "metadata": {},
     "output_type": "display_data"
    }
   ],
   "source": [
    "import matplotlib.pyplot as plt\n",
    "\n",
    "loss = []\n",
    "for i in range(30):\n",
    "    loss.append(agent.learn_experience_replay(debug=False))\n",
    "\n",
    "plt.plot(loss)\n",
    "plt.show()"
   ]
  },
  {
   "cell_type": "markdown",
   "metadata": {},
   "source": [
    "Let's now see the second function Q_learning, where we are going to play multiple games, collect the samples for our training after each move and actually train our model."
   ]
  },
  {
   "cell_type": "code",
   "execution_count": 36,
   "metadata": {},
   "outputs": [],
   "source": [
    "import time\n",
    "import pandas as pd\n",
    "\n",
    "def Q_learning(agent, stockfish, games_to_play, max_game_moves, board_config=None):\n",
    "\n",
    "    loss = []\n",
    "    final_score = []\n",
    "    games = 0\n",
    "    steps = 0\n",
    "    start_time = time.time()\n",
    "\n",
    "    # we play n games\n",
    "    while games < games_to_play:\n",
    "\n",
    "        games += 1\n",
    "\n",
    "        # Create a new standard board\n",
    "        if board_config is None:\n",
    "            board = chess.Board()\n",
    "        \n",
    "        # Create a board with the desired configuration (pieces and starting positions)\n",
    "        else:\n",
    "            board = chess.Board(board_config)\n",
    "\n",
    "        done = False\n",
    "        game_moves = 0\n",
    "\n",
    "        # analyse board with stockfish\n",
    "        analysis = stockfish.analyse(board=board, limit=chess.engine.Limit(depth=5))\n",
    "        \n",
    "        # get best possible move according to stockfish (with depth=5)\n",
    "        best_move = analysis['pv'][0]\n",
    "\n",
    "        # until game is not finished\n",
    "        while not done:\n",
    "\n",
    "            game_moves += 1\n",
    "            steps += 1\n",
    "\n",
    "            # choose action, here the agent choose whether to explore or exploit\n",
    "            action_index, move, bit_state, valid_move_tensor = agent.select_action(board, best_move)\n",
    "\n",
    "            # save this score to compute the reward after the opponent move\n",
    "            board_score_before = analysis['score'].relative.score(mate_score=10000) / 100\n",
    "\n",
    "            # white moves\n",
    "            board.push(move)\n",
    "\n",
    "            # the game is finished (checkmate, stalemate, draw conditions, ...) or we reached max moves\n",
    "            done = board.result() != '*' or game_moves > max_game_moves\n",
    "            \n",
    "            if done:\n",
    "                \n",
    "                final_result = board.result()\n",
    "                \n",
    "                # if the game is still not finished (meaning we reached max moves without ending the game) or draw\n",
    "                # we assign a negative reward\n",
    "                if final_result == '*' or final_result == \"1/2-1/2\":\n",
    "                    reward = -10\n",
    "                \n",
    "                # if white wins\n",
    "                elif final_result == \"1-0\":\n",
    "                    reward = 1000\n",
    "                \n",
    "                # if black wins\n",
    "                else:\n",
    "                    reward = -1000\n",
    "\n",
    "                # store sample in memory\n",
    "                agent.remember(agent.MAX_PRIORITY, bit_state, action_index, reward, None, done, valid_move_tensor, None)\n",
    "                \n",
    "                board_score_after = reward\n",
    "                \n",
    "            # game not finished\n",
    "            else:\n",
    "\n",
    "                # black moves\n",
    "                board.push(random.choice(list(board.legal_moves)))\n",
    "\n",
    "                # board score is back to our perspective after black moves, so no need to change signs\n",
    "                analysis = stockfish.analyse(board=board, limit=chess.engine.Limit(depth=5))\n",
    "                board_score_after = analysis['score'].relative.score(mate_score=10000) / 100\n",
    "\n",
    "                # is game finished?\n",
    "                done = board.result() != '*'\n",
    "                \n",
    "                # if not done, update next best move\n",
    "                if not done:\n",
    "                    best_move = analysis['pv'][0]\n",
    "\n",
    "                next_bit_state = agent.convert_state(board)\n",
    "                next_valid_move_tensor, _ = agent.mask_and_valid_moves(board)\n",
    "                \n",
    "                # divide by 100 to convert from centipawns to pawns score\n",
    "                reward = board_score_after - board_score_before - 0.01\n",
    "                                \n",
    "                # store sample in memory\n",
    "                agent.remember(agent.MAX_PRIORITY, bit_state, action_index, reward, next_bit_state, done, valid_move_tensor, next_valid_move_tensor)\n",
    "                                \n",
    "\n",
    "            # train model and store loss\n",
    "            loss.append(agent.learn_experience_replay(debug=False))\n",
    "\n",
    "            # adjust epsilon (exploration rate)\n",
    "            agent.adaptiveEGreedy()\n",
    "\n",
    "        # save final game score\n",
    "        final_score.append(board_score_after)\n",
    "\n",
    "    # plot training results\n",
    "    score_df = pd.DataFrame(final_score, columns=[\"score\"])\n",
    "    score_df['ma'] = score_df[\"score\"].rolling(window = games // 5).mean()\n",
    "    loss_df = pd.DataFrame(loss, columns=[\"loss\"])\n",
    "    loss_df['ma'] = loss_df[\"loss\"].rolling(window=steps // 5).mean()\n",
    "\n",
    "    # Create a figure with two subplots\n",
    "    fig, (ax1, ax2) = plt.subplots(1, 2)\n",
    "\n",
    "    # Plot the score chart in the first subplot\n",
    "    ax1.plot(score_df.index, score_df[\"score\"], linewidth=0.2)\n",
    "    ax1.plot(score_df.index, score_df[\"ma\"])\n",
    "    ax1.set_title('Final score by game')\n",
    "\n",
    "    # Plot the loss chart in the second subplot\n",
    "    ax2.plot(loss_df.index, loss_df[\"loss\"], linewidth=0.1)\n",
    "    ax2.plot(loss_df.index, loss_df[\"ma\"])\n",
    "    ax2.set_title('Loss by training step')\n",
    "\n",
    "    # Show the plot\n",
    "    plt.show()"
   ]
  },
  {
   "cell_type": "code",
   "execution_count": null,
   "metadata": {},
   "outputs": [
    {
     "data": {
      "image/png": "[encoded data removed]",
      "text/plain": [
       "<Figure size 640x480 with 2 Axes>"
      ]
     },
     "metadata": {},
     "output_type": "display_data"
    }
   ],
   "source": [
    "Q_learning(agent, stockfish, games_to_play=10, max_game_moves=50)"
   ]
  },
  {
   "cell_type": "markdown",
   "metadata": {},
   "source": [
    "The loss gradually decrease as the samples with greater loss have a greater chance of being extracted for the training."
   ]
  },
  {
   "cell_type": "markdown",
   "metadata": {},
   "source": [
    "## Test the agent\n",
    "To test the model we are going to make it play a series of games against a random agent and see the % of games it manages to win.\n",
    "\n",
    "Of course we would expect any good agent to win 100% of games against a player who chooses random move all the time, but given the huge number of possible states and actions it is not so trivial without extensive training.\n",
    "\n",
    "Just training on our local machines and without spending too much training time, we just want to see that a trained model performs better than a non-trained model (which we expect to win around 50% of time, because it will choose random moves as well)"
   ]
  },
  {
   "cell_type": "code",
   "execution_count": 37,
   "metadata": {},
   "outputs": [],
   "source": [
    "def choose_move(agent, board):\n",
    "    \n",
    "    if agent == 'random':\n",
    "        chosen_move = random.choice(list(board.legal_moves))\n",
    "    \n",
    "    else:\n",
    "        bit_state = agent.convert_state(board)\n",
    "        valid_moves_tensor, valid_move_dict = agent.mask_and_valid_moves(board)\n",
    "\n",
    "        with torch.no_grad():\n",
    "            tensor = torch.from_numpy(bit_state).float().unsqueeze(0)\n",
    "            policy_values = agent.policy_net(tensor, valid_moves_tensor)\n",
    "            chosen_move_index = int(policy_values.max(1)[1].view(1, 1))\n",
    "            \n",
    "            if chosen_move_index not in valid_move_dict:\n",
    "                chosen_move = random.choice(list(board.legal_moves))\n",
    "            else:\n",
    "                chosen_move = valid_move_dict[chosen_move_index]\n",
    "                \n",
    "    return chosen_move\n",
    "\n",
    "\n",
    "def test(agent, games=1, board_config=None):\n",
    "\n",
    "    outcomes = []\n",
    "    for game in range(games):\n",
    "        \n",
    "        done = False\n",
    "        \n",
    "        # Create a new standard board\n",
    "        if board_config is None:\n",
    "            board = chess.Board()\n",
    "        \n",
    "        # Create a board with the desired configuration (pieces and starting positions)\n",
    "        else:\n",
    "            board = chess.Board(board_config)\n",
    "        \n",
    "        game_moves = 0\n",
    "        while not done:\n",
    "            game_moves += 1\n",
    "            \n",
    "            # white moves\n",
    "            if game_moves % 2 != 0:\n",
    "                board.push(choose_move(agent, board))\n",
    "            \n",
    "            # black moves\n",
    "            else:\n",
    "                board.push(choose_move(\"random\", board))\n",
    "                \n",
    "            done = board.result(claim_draw=True) != '*'\n",
    "\n",
    "        outcomes.append(board.result(claim_draw=True))\n",
    "\n",
    "    outcome_dict = {\"1-0\":\"White won\", \"1/2-1/2\":\"Draw\", \"0-1\":\"Black won\"}\n",
    "    for o in set(outcomes):\n",
    "        print(f\"{o} {outcome_dict[o]}: {round(outcomes.count(o)/len(outcomes)*100)}%\")"
   ]
  },
  {
   "cell_type": "code",
   "execution_count": 38,
   "metadata": {},
   "outputs": [
    {
     "name": "stdout",
     "output_type": "stream",
     "text": [
      "1/2-1/2 Draw: 100%\n"
     ]
    }
   ],
   "source": [
    "# This is the agent we trained for just 10 games\n",
    "test(agent, games=20)"
   ]
  },
  {
   "cell_type": "markdown",
   "metadata": {},
   "source": [
    "The model learned very little with so little training, but let's load a model trained with 2000 games to see if we can notice any difference."
   ]
  },
  {
   "cell_type": "code",
   "execution_count": 39,
   "metadata": {},
   "outputs": [
    {
     "name": "stdout",
     "output_type": "stream",
     "text": [
      "1/2-1/2 Draw: 85%\n",
      "0-1 Black won: 15%\n"
     ]
    }
   ],
   "source": [
    "test(ChessAgent(input_model_path=\"pretrained-agent-2000\"), games=20)"
   ]
  },
  {
   "cell_type": "markdown",
   "metadata": {},
   "source": [
    "Even with 2000 games, the results are pretty much random.\n",
    "\n",
    "This is because there are so many chess states and actions that the model should probably be trained on hundreds of thousands of games, which is beyond our goal here.\n",
    "\n",
    "However, let's see how the model can learn really fast on simplified board positions."
   ]
  },
  {
   "cell_type": "markdown",
   "metadata": {},
   "source": [
    "### Mate in 1"
   ]
  },
  {
   "cell_type": "code",
   "execution_count": 40,
   "metadata": {},
   "outputs": [
    {
     "name": "stdout",
     "output_type": "stream",
     "text": [
      "♚ ⭘ ⭘ ⭘ ⭘ ⭘ ⭘ ⭘\n",
      "⭘ ⭘ ⭘ ⭘ ⭘ ⭘ ⭘ ⭘\n",
      "⭘ ♔ ⭘ ⭘ ⭘ ⭘ ⭘ ⭘\n",
      "⭘ ⭘ ⭘ ⭘ ⭘ ⭘ ⭘ ⭘\n",
      "⭘ ⭘ ⭘ ⭘ ⭘ ⭘ ⭘ ⭘\n",
      "⭘ ⭘ ⭘ ⭘ ♖ ⭘ ⭘ ⭘\n",
      "⭘ ⭘ ⭘ ⭘ ⭘ ⭘ ⭘ ⭘\n",
      "⭘ ⭘ ⭘ ⭘ ⭘ ⭘ ⭘ ⭘\n"
     ]
    }
   ],
   "source": [
    "mate_in_1_board = \"k7/8/1K6/8/8/4R3/8/8\"\n",
    "\n",
    "board = chess.Board(mate_in_1_board)\n",
    "print(board.unicode())"
   ]
  },
  {
   "cell_type": "code",
   "execution_count": 42,
   "metadata": {},
   "outputs": [],
   "source": [
    "# Create an agent\n",
    "agent = ChessAgent()\n",
    "\n",
    "# Create a stockfish engine instance\n",
    "stockfish = chess.engine.SimpleEngine.popen_uci(\"/opt/homebrew/Cellar/stockfish/17.1/bin/stockfish\")"
   ]
  },
  {
   "cell_type": "code",
   "execution_count": 43,
   "metadata": {},
   "outputs": [
    {
     "name": "stdout",
     "output_type": "stream",
     "text": [
      "1/2-1/2 Draw: 100%\n"
     ]
    }
   ],
   "source": [
    "# no training\n",
    "test(agent, games=10, board_config=mate_in_1_board)"
   ]
  },
  {
   "cell_type": "code",
   "execution_count": 44,
   "metadata": {},
   "outputs": [
    {
     "data": {
      "image/png": "[encoded data removed]",
      "text/plain": [
       "<Figure size 640x480 with 2 Axes>"
      ]
     },
     "metadata": {},
     "output_type": "display_data"
    }
   ],
   "source": [
    "Q_learning(agent, stockfish, games_to_play=20, max_game_moves=1, board_config=mate_in_1_board)"
   ]
  },
  {
   "cell_type": "code",
   "execution_count": 45,
   "metadata": {},
   "outputs": [
    {
     "name": "stdout",
     "output_type": "stream",
     "text": [
      "1-0 White won: 100%\n"
     ]
    }
   ],
   "source": [
    "# 20 games training\n",
    "test(agent, games=10, board_config=mate_in_1_board)"
   ]
  },
  {
   "cell_type": "markdown",
   "metadata": {},
   "source": [
    "### Mate in 2"
   ]
  },
  {
   "cell_type": "code",
   "execution_count": 46,
   "metadata": {},
   "outputs": [
    {
     "name": "stdout",
     "output_type": "stream",
     "text": [
      "♚ ⭘ ⭘ ⭘ ⭘ ⭘ ⭘ ⭘\n",
      "⭘ ⭘ ⭘ ⭘ ⭘ ⭘ ⭘ ⭘\n",
      "⭘ ⭘ ⭘ ⭘ ⭘ ⭘ ⭘ ⭘\n",
      "♔ ⭘ ⭘ ⭘ ⭘ ⭘ ⭘ ⭘\n",
      "⭘ ⭘ ⭘ ⭘ ⭘ ⭘ ⭘ ⭘\n",
      "⭘ ⭘ ⭘ ⭘ ♖ ⭘ ⭘ ⭘\n",
      "⭘ ⭘ ⭘ ⭘ ⭘ ⭘ ⭘ ⭘\n",
      "⭘ ⭘ ⭘ ⭘ ⭘ ⭘ ⭘ ⭘\n"
     ]
    }
   ],
   "source": [
    "mate_in_2_board = \"k7/8/8/K7/8/4R3/8/8\"\n",
    "\n",
    "board = chess.Board(mate_in_2_board)\n",
    "print(board.unicode())"
   ]
  },
  {
   "cell_type": "code",
   "execution_count": null,
   "metadata": {},
   "outputs": [
    {
     "name": "stdout",
     "output_type": "stream",
     "text": [
      "1/2-1/2 Draw: 100%\n"
     ]
    }
   ],
   "source": [
    "test(agent, games=10, board_config=mate_in_2_board)"
   ]
  },
  {
   "cell_type": "code",
   "execution_count": null,
   "metadata": {},
   "outputs": [
    {
     "data": {
      "image/png": "[encoded data removed]",
      "text/plain": [
       "<Figure size 640x480 with 2 Axes>"
      ]
     },
     "metadata": {},
     "output_type": "display_data"
    }
   ],
   "source": [
    "Q_learning(agent, stockfish, games_to_play=50, max_game_moves=1, board_config=mate_in_2_board)"
   ]
  },
  {
   "cell_type": "code",
   "execution_count": null,
   "metadata": {},
   "outputs": [
    {
     "name": "stdout",
     "output_type": "stream",
     "text": [
      "1-0 White won: 100%\n"
     ]
    }
   ],
   "source": [
    "#20 games training (mate in 1) + 50 games training (mate in 2)\n",
    "test(agent, games=10, board_config=mate_in_2_board)"
   ]
  },
  {
   "cell_type": "markdown",
   "metadata": {},
   "source": [
    "## Conclusion and Next Steps\n",
    "We have built 2 chess agent with 2 different strategies (minimax and reinforcement learning).\n",
    "\n",
    "Of course at this stage they are not ready to compete against any serious state-of-the-art engine, but they are a good start to continue experimenting.\n",
    "\n",
    "Like for our minimax model, here are some possible next steps for optimization:\n",
    "- Optimize the number of nodes in the output layer of the neural network (not every one of the 4096 theoretical moves is actually possible, for example no piece can move from a1 to b7)\n",
    "- Test and optimize neural net hyperparameters (number of layers, type of layers, number of nodes per layer, activation functions, ...)\n",
    "- Test and optimize learning parameters (gamma, epsilon, batch_size, memory_size, ...)\n",
    "- Train for a MUCH greater number of steps (move the code to AWS to train the model on a cluster of GPU-optimized machines). It is very easy to run the code on GPU (https://pytorch.org/get-started/locally/)\n",
    "- Train the model using curriculum learning. Train on increasingly complex positions instead of starting with the full board from the beginning (like we show in the mate in 1 and mate in 2 examples)\n",
    "- Generate more training samples with self-play (making the engine play as both white and black)\n",
    "- Include opening book and endgame tables to reduce drastically the number of states where we need to use the engine"
   ]
  }
 ],
 "metadata": {
  "kernelspec": {
   "display_name": ".venv",
   "language": "python",
   "name": "python3"
  },
  "language_info": {
   "codemirror_mode": {
    "name": "ipython",
    "version": 3
   },
   "file_extension": ".py",
   "mimetype": "text/x-python",
   "name": "python",
   "nbconvert_exporter": "python",
   "pygments_lexer": "ipython3",
   "version": "3.9.21"
  }
 },
 "nbformat": 4,
 "nbformat_minor": 5
}
