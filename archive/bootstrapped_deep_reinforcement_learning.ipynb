{
 "cells": [
  {
   "cell_type": "code",
   "execution_count": 1,
   "id": "804f968e",
   "metadata": {},
   "outputs": [],
   "source": [
    "import chess\n",
    "import chess.engine\n",
    "import random\n",
    "import numpy\n",
    "\n",
    "import torch\n",
    "import torch.nn as nn\n",
    "import torch.nn.functional as F\n",
    "import torch.optim as optim\n",
    "\n",
    "\n",
    "def pgn_to_board(pgn):\n",
    "    board = chess.Board()\n",
    "    for move in chess.Board().parse_pgn(pgn).mainline_moves():\n",
    "        board.push(move)\n",
    "    return board\n",
    "\n",
    "def board_to_tensor(board):\n",
    "    bitboards = [b for b in board.piece_map().values()] + [board.turn] + [board.castling_rights] + [board.ep_square]\n",
    "    bitarray = numpy.array([\n",
    "        numpy.array([(bitboard >> i & 1) for i in range(64)])\n",
    "        for bitboard in bitboards\n",
    "    ]).reshape((16, 8, 8))\n",
    "    return torch.from_numpy(bitarray).float().unsqueeze(0)\n",
    "\n",
    "\n",
    "\n"
   ]
  },
  {
   "cell_type": "code",
   "execution_count": 3,
   "id": "496307fe",
   "metadata": {},
   "outputs": [],
   "source": [
    "import os\n",
    "\n",
    "def data_generator():\n",
    "    for file in os.listdir(\"data/\"):\n",
    "        with open(\"data/\" + file, \"r\") as f:\n",
    "            for line in f:\n",
    "                board = pgn_to_board(line)\n",
    "                tensor = board_to_tensor(board)\n",
    "                yield tensor\n",
    "\n",
    "\n",
    "data = data_generator()\n",
    "\n"
   ]
  }
 ],
 "metadata": {
  "kernelspec": {
   "display_name": ".venv",
   "language": "python",
   "name": "python3"
  },
  "language_info": {
   "codemirror_mode": {
    "name": "ipython",
    "version": 3
   },
   "file_extension": ".py",
   "mimetype": "text/x-python",
   "name": "python",
   "nbconvert_exporter": "python",
   "pygments_lexer": "ipython3",
   "version": "3.9.21"
  }
 },
 "nbformat": 4,
 "nbformat_minor": 5
}
